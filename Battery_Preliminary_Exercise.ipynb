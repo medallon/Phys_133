{
 "cells": [
  {
   "cell_type": "code",
   "execution_count": 26,
   "metadata": {},
   "outputs": [
    {
     "name": "stdout",
     "output_type": "stream",
     "text": [
      "[ 500 1000 1500 2000 2500 3000]\n",
      "[3.33, 4.88, 5.76, 6.34, 6.75, 7.06]\n",
      "[0.00666, 0.00488, 0.0038399999999999997, 0.00317, 0.0027, 0.002353333333333333]\n"
     ]
    }
   ],
   "source": [
    "import numpy as np\n",
    "\n",
    "RL = np.arange(500,3001,500)\n",
    "V = [3.33,4.88,5.76,6.34,6.75,7.06]\n",
    "I = []\n",
    "\n",
    "end_index = len(RL)\n",
    "\n",
    "for i in range(end_index):\n",
    "    I.append(V[i]/RL[i])\n",
    "   \n",
    "print RL\n",
    "print V\n",
    "print I"
   ]
  },
  {
   "cell_type": "markdown",
   "metadata": {},
   "source": [
    "Ohm's Law: V = IR -> I = V_0/R_0\n",
    "Thevenin's Model : V = V_0 - I*R_0 -> V_0 = V + IR_0\n",
    "1) V_0 = V_1 + I_1*R_0\n",
    "2) V_0 = V_2 + I_2*R_0\n",
    "\n",
    "R_0 = (V_1 - V_2)/(I_2 - I_1)"
   ]
  },
  {
   "cell_type": "code",
   "execution_count": 27,
   "metadata": {},
   "outputs": [],
   "source": [
    "import matplotlib.pyplot as plt"
   ]
  },
  {
   "cell_type": "code",
   "execution_count": 28,
   "metadata": {},
   "outputs": [
    {
     "ename": "SyntaxError",
     "evalue": "invalid syntax (<ipython-input-28-311767f0b90d>, line 5)",
     "output_type": "error",
     "traceback": [
      "\u001b[1;36m  File \u001b[1;32m\"<ipython-input-28-311767f0b90d>\"\u001b[1;36m, line \u001b[1;32m5\u001b[0m\n\u001b[1;33m    for i in\u001b[0m\n\u001b[1;37m             ^\u001b[0m\n\u001b[1;31mSyntaxError\u001b[0m\u001b[1;31m:\u001b[0m invalid syntax\n"
     ]
    }
   ],
   "source": [
    "R_0 = []\n",
    "\n",
    "bestR_0 = len(I)\n",
    "\n",
    "for i in "
   ]
  },
  {
   "cell_type": "code",
   "execution_count": null,
   "metadata": {},
   "outputs": [],
   "source": []
  }
 ],
 "metadata": {
  "kernelspec": {
   "display_name": "Python 2",
   "language": "python",
   "name": "python2"
  },
  "language_info": {
   "codemirror_mode": {
    "name": "ipython",
    "version": 2
   },
   "file_extension": ".py",
   "mimetype": "text/x-python",
   "name": "python",
   "nbconvert_exporter": "python",
   "pygments_lexer": "ipython2",
   "version": "2.7.15"
  }
 },
 "nbformat": 4,
 "nbformat_minor": 2
}
